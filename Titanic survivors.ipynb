{
 "cells": [
  {
   "cell_type": "code",
   "execution_count": 594,
   "metadata": {},
   "outputs": [],
   "source": [
    "import pandas as pd\n",
    "import numpy as np\n",
    "import re"
   ]
  },
  {
   "cell_type": "code",
   "execution_count": 509,
   "metadata": {},
   "outputs": [],
   "source": [
    "traintanic = pd.read_csv('train.csv')\n",
    "testanic = pd.read_csv('test.csv')"
   ]
  },
  {
   "cell_type": "markdown",
   "metadata": {},
   "source": [
    "Features:\n",
    "Ticket class, sex, age, parent-child, sibling-spouse, Tune: nationality (split off last names and classify non-Anglos by name ending)\n",
    "\n",
    "Start with decision tree, then do KNN, then SVM\n",
    "See what happens when combined\n",
    "\n",
    "To do: separate out deck from cabin number\n",
    "\n",
    "Assign deck as well as fore, amidships or aft cabin numbers based on ticket class\n",
    "\n",
    "Check on how exactly the ship sank - \n",
    "\n",
    "Create column for young children (try different limit downwards from 16)\n",
    "\n",
    "Ignore ticket & fare\n",
    "\n",
    "Ignore port of embarkation\n"
   ]
  },
  {
   "cell_type": "markdown",
   "metadata": {},
   "source": [
    "'Foreign' name endings:\n",
    "off\n",
    "ov\n",
    "cher\n",
    "sky\n",
    "ski\n",
    "ig\n",
    "nen\n",
    "sen\n",
    "ik\n",
    "strom\n",
    "ic\n",
    "sen\n",
    "blom\n",
    "lund\n",
    "og"
   ]
  },
  {
   "cell_type": "code",
   "execution_count": 512,
   "metadata": {},
   "outputs": [],
   "source": [
    "traintanic['Last_Name'] = traintanic['Name'].str.split(',', n = 1, expand = True)"
   ]
  },
  {
   "cell_type": "code",
   "execution_count": 643,
   "metadata": {},
   "outputs": [],
   "source": [
    "traintanic['Is Non-Anglo Western?'] = traintanic.Name.apply\\\n",
    "(lambda x: 1 if re.compile('adt,|berg,|berger,|blom,|burg,|burger,|a,|o,|elle,|elli,|ehr,|ig,|ila,|cher,\\\n",
    "|nen,|sen,|ik,|ek,|og,|our,|gen,|lund,|strom,|sson,|sen,|vedt,|stad,|stedt,| van |qvist,|quist,\\\n",
    "            |aki,|feld,|mann,|gli,|glin,|ahl,|ouf,| Van| Vander').search(x) else 0)\n",
    "\n",
    "testanic['Is Non-Anglo Western?'] = testanic.Name.apply\\\n",
    "(lambda x: 1 if re.compile('adt,|berg,|berger,|blom,|burg,|burger,|a,|o,|elle,|elli,|ehr,|ig,|ila,|cher,\\\n",
    "|nen,|sen,|ik,|ek,|og,|our,|gen,|lund,|strom,|sson,|sen,|vedt,|stad,|stedt,| van |qvist,|quist,\\\n",
    "            |aki,|feld,|mann,|gli,|glin,|ahl,|ouf,| Van| Vander').search(x) else 0)"
   ]
  },
  {
   "cell_type": "code",
   "execution_count": 644,
   "metadata": {},
   "outputs": [],
   "source": [
    "traintanic['Is Eastern?'] = traintanic.Name.apply\\\n",
    "(lambda x: 1 if re.compile('ac,|off,|eff,|if,|ov,|ic,|sky,|ski,|u,|ib,|os,|oub,').search(x) else 0)\n",
    "\n",
    "testanic['Is Eastern?'] = testanic.Name.apply\\\n",
    "(lambda x: 1 if re.compile('ac,|off,|eff,|if,|ov,|ic,|sky,|ski,|u,|ib,|os,|oub,').search(x) else 0)"
   ]
  },
  {
   "cell_type": "code",
   "execution_count": 518,
   "metadata": {},
   "outputs": [],
   "source": [
    "traintanic['Is 1st Class?'] = traintanic.Pclass.apply(lambda x: 1 if x == 1 else 0)\n",
    "\n",
    "testanic['Is 1st Class?'] = testanic.Pclass.apply(lambda x: 1 if x == 1 else 0)"
   ]
  },
  {
   "cell_type": "code",
   "execution_count": 519,
   "metadata": {},
   "outputs": [],
   "source": [
    "traintanic['Is 3rd Class?'] = traintanic.Pclass.apply(lambda x: 1 if x == 3 else 0)\n",
    "\n",
    "testanic['Is 3rd Class?'] = testanic.Pclass.apply(lambda x: 1 if x == 3 else 0)"
   ]
  },
  {
   "cell_type": "code",
   "execution_count": 520,
   "metadata": {},
   "outputs": [],
   "source": [
    "traintanic['Deck'] = traintanic.Cabin.str.get(0)\n",
    "traintanic['Cabin'] = traintanic.Cabin.astype('object')\n",
    "\n",
    "testanic['Deck'] = testanic.Cabin.str.get(0)\n",
    "testanic['Cabin'] = testanic.Cabin.astype('object')"
   ]
  },
  {
   "cell_type": "code",
   "execution_count": 521,
   "metadata": {},
   "outputs": [],
   "source": [
    "traintanic['Cabin_No'] = traintanic['Cabin'].str[1:4]\n",
    "\n",
    "testanic['Cabin_No'] = testanic['Cabin'].str[1:4]"
   ]
  },
  {
   "cell_type": "code",
   "execution_count": 522,
   "metadata": {},
   "outputs": [],
   "source": [
    "traintanic.Deck = traintanic.Deck.fillna(0)\n",
    "traintanic.Cabin_No = traintanic.Cabin_No.fillna(0)\n",
    "\n",
    "testanic.Deck = testanic.Deck.fillna(0)\n",
    "testanic.Cabin_No = testanic.Cabin_No.fillna(0)"
   ]
  },
  {
   "cell_type": "code",
   "execution_count": 616,
   "metadata": {},
   "outputs": [],
   "source": [
    "traintanic['Is Child?'] = traintanic.Age.apply(lambda x: 1 if x <= 12 else 0)\n",
    "traintanic['Is Young Adult?'] = traintanic.Age.apply(lambda x: 1 if x in range(13,31) else 0)\n",
    "\n",
    "testanic['Is Child?'] = testanic.Age.apply(lambda x: 1 if x <= 12 else 0)\n",
    "testanic['Is Young Adult?'] = testanic.Age.apply(lambda x: 1 if x in range(13,31) else 0)"
   ]
  },
  {
   "cell_type": "code",
   "execution_count": 524,
   "metadata": {},
   "outputs": [],
   "source": [
    "traintanic['Is Not Young?'] = traintanic.Age.apply(lambda x: 1 if x > 40 else 0)\n",
    "\n",
    "testanic['Is Not Young?'] = testanic.Age.apply(lambda x: 1 if x > 40 else 0)"
   ]
  },
  {
   "cell_type": "code",
   "execution_count": 525,
   "metadata": {},
   "outputs": [],
   "source": [
    "traintanic['Big Family?'] = traintanic.Parch.apply(lambda x: 1 if x > 2 else 0)\n",
    "\n",
    "testanic['Big Family?'] = testanic.Parch.apply(lambda x: 1 if x > 2 else 0)"
   ]
  },
  {
   "cell_type": "code",
   "execution_count": 619,
   "metadata": {},
   "outputs": [
    {
     "name": "stderr",
     "output_type": "stream",
     "text": [
      "C:\\Users\\teren\\miniconda3\\lib\\site-packages\\pandas\\core\\frame.py:4153: SettingWithCopyWarning: \n",
      "A value is trying to be set on a copy of a slice from a DataFrame\n",
      "\n",
      "See the caveats in the documentation: https://pandas.pydata.org/pandas-docs/stable/user_guide/indexing.html#returning-a-view-versus-a-copy\n",
      "  downcast=downcast,\n"
     ]
    }
   ],
   "source": [
    "traintanic[['Is Child?','Is Young Adult?']].fillna(0, inplace=True)\n",
    "\n",
    "testanic[['Is Child?','Is Young Adult?']].fillna(0, inplace=True)"
   ]
  },
  {
   "cell_type": "code",
   "execution_count": 528,
   "metadata": {},
   "outputs": [],
   "source": [
    "traintanic.Cabin_No.replace(to_replace=' G7', value=7, inplace=True)\n",
    "traintanic.Cabin_No.replace(to_replace=' G6', value=6, inplace=True)\n",
    "traintanic.Cabin_No.replace(to_replace=' E6', value=6, inplace=True)\n",
    "traintanic.Cabin_No.replace(to_replace='', value=0, inplace=True)"
   ]
  },
  {
   "cell_type": "code",
   "execution_count": 667,
   "metadata": {},
   "outputs": [],
   "source": [
    "testanic.Cabin_No.replace(to_replace=' [A-Z]', value='', inplace=True, regex=True)\n",
    "testanic.Cabin_No.replace(to_replace='', value='0', inplace=True, regex=True)"
   ]
  },
  {
   "cell_type": "code",
   "execution_count": 529,
   "metadata": {},
   "outputs": [],
   "source": [
    "traintanic['Cabin_No'] = traintanic['Cabin_No'].astype('int64')\n",
    "\n",
    "testanic['Cabin_No'] = testanic['Cabin_No'].astype('int64')"
   ]
  },
  {
   "cell_type": "code",
   "execution_count": 530,
   "metadata": {},
   "outputs": [],
   "source": [
    "traintanic['Cabin Fore?'] = traintanic['Cabin_No'].apply(lambda x: 1 if x in range(66) else 0)\n",
    "\n",
    "testanic['Cabin Fore?'] = testanic['Cabin_No'].apply(lambda x: 1 if x in range(66) else 0)"
   ]
  },
  {
   "cell_type": "code",
   "execution_count": 531,
   "metadata": {},
   "outputs": [],
   "source": [
    "traintanic['Cabin Aft?'] = traintanic['Cabin_No'].apply(lambda x: 1 if x > 80 else 0)\n",
    "\n",
    "testanic['Cabin Aft?'] = testanic['Cabin_No'].apply(lambda x: 1 if x > 80 else 0)"
   ]
  },
  {
   "cell_type": "code",
   "execution_count": 532,
   "metadata": {},
   "outputs": [],
   "source": [
    "traintanic['Cabin Amidships?'] = traintanic['Cabin_No'].apply(lambda x: 1 if x in range(66,81) else 0)\n",
    "\n",
    "testanic['Cabin Amidships?'] = testanic['Cabin_No'].apply(lambda x: 1 if x in range(66,81) else 0)"
   ]
  },
  {
   "cell_type": "code",
   "execution_count": 533,
   "metadata": {},
   "outputs": [],
   "source": [
    "traintanic = traintanic.drop(columns=['PassengerId','Ticket','Fare'])\n",
    "\n",
    "testanic = testanic.drop(columns=['PassengerId','Ticket','Fare'])"
   ]
  },
  {
   "cell_type": "code",
   "execution_count": 534,
   "metadata": {},
   "outputs": [],
   "source": [
    "traintanic['Sex-int'] = traintanic['Sex'].apply(lambda x: 1 if x == 'female' else 0)\n",
    "\n",
    "testanic['Sex-int'] = testanic['Sex'].apply(lambda x: 1 if x == 'female' else 0)"
   ]
  },
  {
   "cell_type": "code",
   "execution_count": 535,
   "metadata": {},
   "outputs": [
    {
     "name": "stdout",
     "output_type": "stream",
     "text": [
      "<class 'pandas.core.frame.DataFrame'>\n",
      "RangeIndex: 891 entries, 0 to 890\n",
      "Data columns (total 24 columns):\n",
      " #   Column                 Non-Null Count  Dtype  \n",
      "---  ------                 --------------  -----  \n",
      " 0   Survived               891 non-null    int64  \n",
      " 1   Pclass                 891 non-null    int64  \n",
      " 2   Name                   891 non-null    object \n",
      " 3   Sex                    891 non-null    object \n",
      " 4   Age                    714 non-null    float64\n",
      " 5   SibSp                  891 non-null    int64  \n",
      " 6   Parch                  891 non-null    int64  \n",
      " 7   Embarked               889 non-null    object \n",
      " 8   Last_Name              891 non-null    object \n",
      " 9   Is Non-Anglo Western?  891 non-null    int64  \n",
      " 10  Is Eastern?            891 non-null    int64  \n",
      " 11  Is Non-Anglo?          891 non-null    int64  \n",
      " 12  Is 1st Class?          891 non-null    int64  \n",
      " 13  Is 3rd Class?          891 non-null    int64  \n",
      " 14  Deck                   891 non-null    object \n",
      " 15  Cabin_No               891 non-null    int64  \n",
      " 16  Is Young Boy?          891 non-null    int64  \n",
      " 17  Is Young Woman?        891 non-null    int64  \n",
      " 18  Is Not Young?          891 non-null    int64  \n",
      " 19  Big Family?            891 non-null    int64  \n",
      " 20  Cabin Fore?            891 non-null    int64  \n",
      " 21  Cabin Aft?             891 non-null    int64  \n",
      " 22  Cabin Amidships?       891 non-null    int64  \n",
      " 23  Sex-int                891 non-null    int64  \n",
      "dtypes: float64(1), int64(18), object(5)\n",
      "memory usage: 167.2+ KB\n"
     ]
    }
   ],
   "source": [
    "traintanic.info()"
   ]
  },
  {
   "cell_type": "code",
   "execution_count": 536,
   "metadata": {},
   "outputs": [],
   "source": [
    "from sklearn.ensemble import RandomForestClassifier\n",
    "from sklearn.model_selection import train_test_split"
   ]
  },
  {
   "cell_type": "code",
   "execution_count": 676,
   "metadata": {},
   "outputs": [
    {
     "name": "stdout",
     "output_type": "stream",
     "text": [
      "0.8044692737430168\n"
     ]
    }
   ],
   "source": [
    "forest = RandomForestClassifier(n_estimators = 10000, random_state = 1)\n",
    "traintanic_data, valitanic_data, traintanic_labels, valitanic_labels = train_test_split(traintanic[[\\\n",
    "'Is 1st Class?','Is 3rd Class?','Sex-int','SibSp','Parch',\\\n",
    "    'Is Non-Anglo Western?','Is Eastern?',\\\n",
    "        'Is Child?','Is Young Adult?','Is Not Young?',\\\n",
    "            'Cabin Fore?','Cabin Aft?','Cabin Amidships?']],\\\n",
    "           traintanic['Survived'], test_size = 0.2)\n",
    "forest.fit(traintanic_data, traintanic_labels)\n",
    "\n",
    "print(forest.score(valitanic_data, valitanic_labels))"
   ]
  },
  {
   "cell_type": "code",
   "execution_count": 678,
   "metadata": {},
   "outputs": [
    {
     "name": "stdout",
     "output_type": "stream",
     "text": [
      "<class 'pandas.core.frame.DataFrame'>\n",
      "RangeIndex: 418 entries, 0 to 417\n",
      "Data columns (total 23 columns):\n",
      " #   Column                 Non-Null Count  Dtype  \n",
      "---  ------                 --------------  -----  \n",
      " 0   Pclass                 418 non-null    int64  \n",
      " 1   Name                   418 non-null    object \n",
      " 2   Sex                    418 non-null    object \n",
      " 3   Age                    332 non-null    float64\n",
      " 4   SibSp                  418 non-null    int64  \n",
      " 5   Parch                  418 non-null    int64  \n",
      " 6   Cabin                  91 non-null     object \n",
      " 7   Embarked               418 non-null    object \n",
      " 8   Last_Name              418 non-null    object \n",
      " 9   Is Non-Anglo Western?  418 non-null    int64  \n",
      " 10  Is Eastern?            418 non-null    int64  \n",
      " 11  Is 1st Class?          418 non-null    int64  \n",
      " 12  Is 3rd Class?          418 non-null    int64  \n",
      " 13  Deck                   418 non-null    object \n",
      " 14  Cabin_No               418 non-null    int64  \n",
      " 15  Is Child?              418 non-null    int64  \n",
      " 16  Is Young Adult?        418 non-null    int64  \n",
      " 17  Is Not Young?          418 non-null    int64  \n",
      " 18  Big Family?            418 non-null    int64  \n",
      " 19  Cabin Fore?            418 non-null    int64  \n",
      " 20  Cabin Aft?             418 non-null    int64  \n",
      " 21  Cabin Amidships?       418 non-null    int64  \n",
      " 22  Sex-int                418 non-null    int64  \n",
      "dtypes: float64(1), int64(16), object(6)\n",
      "memory usage: 75.2+ KB\n"
     ]
    }
   ],
   "source": [
    "testanic.info()"
   ]
  },
  {
   "cell_type": "code",
   "execution_count": 679,
   "metadata": {},
   "outputs": [],
   "source": [
    "testanic_data = testanic[[\\\n",
    "'Is 1st Class?','Is 3rd Class?','Sex-int','SibSp','Parch',\\\n",
    "    'Is Non-Anglo Western?','Is Eastern?',\\\n",
    "        'Is Child?','Is Young Adult?','Is Not Young?',\\\n",
    "            'Cabin Fore?','Cabin Aft?','Cabin Amidships?']]"
   ]
  },
  {
   "cell_type": "code",
   "execution_count": 680,
   "metadata": {},
   "outputs": [],
   "source": [
    "testanic_predict = forest.predict(testanic_data)"
   ]
  },
  {
   "cell_type": "code",
   "execution_count": 682,
   "metadata": {},
   "outputs": [],
   "source": [
    "testanic['Survived'] = testanic_predict"
   ]
  },
  {
   "cell_type": "code",
   "execution_count": 489,
   "metadata": {},
   "outputs": [],
   "source": [
    "feature_importances = list(forest.feature_importances_)\n",
    "features_list = ['Is 1st Class?','Is 3rd Class?','Sex-int','SibSp','Parch','Is Non-Anglo?','Is Young Boy?',\\\n",
    "            'Is Young Woman?','Is Not Young?','Cabin Fore?','Cabin Aft?','Cabin Amidships?']"
   ]
  },
  {
   "cell_type": "code",
   "execution_count": 490,
   "metadata": {},
   "outputs": [
    {
     "name": "stdout",
     "output_type": "stream",
     "text": [
      "Is 1st Class?: 0.07881739848545546\n",
      "Is 3rd Class?: 0.12411116075748313\n",
      "Sex-int: 0.34243405408660327\n",
      "SibSp: 0.12654300299969265\n",
      "Parch: 0.08920871875653362\n",
      "Is Non-Anglo?: 0.039159020279354605\n",
      "Is Young Boy?: 0.043227565473484976\n",
      "Is Young Woman?: 0.0957064993448946\n",
      "Is Not Young?: 0.028231715229254536\n",
      "Cabin Fore?: 0.014147980353781248\n",
      "Cabin Aft?: 0.010918336605626425\n",
      "Cabin Amidships?: 0.007494547627835345\n"
     ]
    }
   ],
   "source": [
    "for feature, value in zip(features_list, feature_importances):\n",
    "    print(f'{feature}: {value}')"
   ]
  },
  {
   "cell_type": "code",
   "execution_count": null,
   "metadata": {},
   "outputs": [],
   "source": []
  }
 ],
 "metadata": {
  "kernelspec": {
   "display_name": "Python 3",
   "language": "python",
   "name": "python3"
  },
  "language_info": {
   "codemirror_mode": {
    "name": "ipython",
    "version": 3
   },
   "file_extension": ".py",
   "mimetype": "text/x-python",
   "name": "python",
   "nbconvert_exporter": "python",
   "pygments_lexer": "ipython3",
   "version": "3.7.6"
  }
 },
 "nbformat": 4,
 "nbformat_minor": 4
}
